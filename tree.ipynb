{
 "cells": [
  {
   "cell_type": "code",
   "execution_count": 143,
   "metadata": {},
   "outputs": [],
   "source": [
    "import csv\n",
    "from anytree import Node, RenderTree\n",
    "from anytree.exporter import DotExporter"
   ]
  },
  {
   "cell_type": "code",
   "execution_count": 144,
   "metadata": {},
   "outputs": [],
   "source": [
    "# def construir_arbol_desde_csv(csv_file):\n",
    "#   nodos = {}\n",
    "\n",
    "#   with open(csv_file, mode='r', encoding='utf-8') as file:\n",
    "#     reader = csv.DictReader(file)\n",
    "    \n",
    "#     for row in reader:\n",
    "#       nodo_id = int(row[\"ID\"])\n",
    "#       padre_id = int(row[\"PadreID\"])\n",
    "#       valor = row[\"Valor\"]\n",
    "\n",
    "#       if nodo_id not in nodos:\n",
    "#         nodos[nodo_id] = Node(valor, id=nodo_id)\n",
    "\n",
    "#       if padre_id in nodos:\n",
    "#         nodos[nodo_id].parent = nodos[padre_id]\n",
    "#       elif nodo_id == 0:\n",
    "#         nodos[nodo_id] = Node(valor, id=nodo_id)\n",
    "  \n",
    "#   return nodos[0] if 0 in nodos else None\n",
    "\n",
    "def construir_arbol_desde_csv(csv_file):\n",
    "  nodos = {}\n",
    "  valores_contados = {}\n",
    "\n",
    "  with open(csv_file, mode='r', encoding='utf-8') as file:\n",
    "    reader = csv.DictReader(file)\n",
    "    \n",
    "    for row in reader:\n",
    "      nodo_id = int(row[\"ID\"])\n",
    "      padre_id = int(row[\"PadreID\"])\n",
    "      valor = row[\"Valor\"]\n",
    "\n",
    "      if valor not in valores_contados:\n",
    "        valores_contados[valor] = 0\n",
    "      else:\n",
    "        valores_contados[valor] += 1\n",
    "        valor = f\"{valor}_{valores_contados[valor]}\"\n",
    "\n",
    "      if nodo_id not in nodos:\n",
    "        nodos[nodo_id] = Node(valor, id=nodo_id)\n",
    "\n",
    "      if padre_id in nodos:\n",
    "        nodos[nodo_id].parent = nodos[padre_id]\n",
    "      elif nodo_id == 0:\n",
    "        nodos[nodo_id] = Node(valor, id=nodo_id)\n",
    "\n",
    "  return nodos[0] if 0 in nodos else None"
   ]
  },
  {
   "cell_type": "code",
   "execution_count": 145,
   "metadata": {},
   "outputs": [],
   "source": [
    "# def guardar_arbol_en_txt(raiz, archivo=\"parseTree.txt\"):\n",
    "def guardar_arbol_en_txt(raiz, archivo=\"astTree.txt\"):\n",
    "    with open(archivo, \"w\") as file:\n",
    "        for pre, _, node in RenderTree(raiz):\n",
    "            file.write(f\"{pre}{node.name}\\n\")\n",
    "    print(f\"Árbol guardado en {archivo}\")"
   ]
  },
  {
   "cell_type": "code",
   "execution_count": 146,
   "metadata": {},
   "outputs": [],
   "source": [
    "# def exportar_arbol_como_imagen(raiz, filename=\"parseTree.png\"):\n",
    "def exportar_arbol_como_imagen(raiz, filename=\"astTree.png\"):\n",
    "  DotExporter(raiz).to_picture(filename)\n",
    "  print(f\"Árbol guardado en {filename}\")"
   ]
  },
  {
   "cell_type": "code",
   "execution_count": 147,
   "metadata": {},
   "outputs": [],
   "source": [
    "csv_file = \"astTree.csv\"\n",
    "# csv_file = \"parseTree.csv\"\n",
    "raiz = construir_arbol_desde_csv(csv_file)"
   ]
  },
  {
   "cell_type": "code",
   "execution_count": 148,
   "metadata": {},
   "outputs": [
    {
     "name": "stdout",
     "output_type": "stream",
     "text": [
      "Árbol guardado en astTree.txt\n",
      "Árbol guardado en astTree.png\n"
     ]
    }
   ],
   "source": [
    "if raiz:\n",
    "  guardar_arbol_en_txt(raiz)\n",
    "  exportar_arbol_como_imagen(raiz)\n",
    "else:\n",
    "  print(\"No se encontró el nodo raíz en el CSV.\")"
   ]
  }
 ],
 "metadata": {
  "kernelspec": {
   "display_name": "COMP",
   "language": "python",
   "name": "python3"
  },
  "language_info": {
   "codemirror_mode": {
    "name": "ipython",
    "version": 3
   },
   "file_extension": ".py",
   "mimetype": "text/x-python",
   "name": "python",
   "nbconvert_exporter": "python",
   "pygments_lexer": "ipython3",
   "version": "3.8.20"
  }
 },
 "nbformat": 4,
 "nbformat_minor": 2
}
